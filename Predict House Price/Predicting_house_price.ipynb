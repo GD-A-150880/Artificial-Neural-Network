{
  "nbformat": 4,
  "nbformat_minor": 0,
  "metadata": {
    "colab": {
      "name": "Predicting_house_price.ipynb",
      "provenance": [],
      "collapsed_sections": []
    },
    "kernelspec": {
      "name": "python3",
      "display_name": "Python 3"
    },
    "accelerator": "GPU"
  },
  "cells": [
    {
      "cell_type": "code",
      "metadata": {
        "id": "Zc7tX_oEeCCv",
        "colab_type": "code",
        "colab": {}
      },
      "source": [
        "from keras.datasets import boston_housing\n",
        "import numpy as np\n",
        "(train_data, train_targets), (test_data, test_targets) = boston_housing.load_data()"
      ],
      "execution_count": 0,
      "outputs": []
    },
    {
      "cell_type": "code",
      "metadata": {
        "id": "YIR0pTBUeqYg",
        "colab_type": "code",
        "colab": {}
      },
      "source": [
        "max_target = np.max(train_targets)"
      ],
      "execution_count": 0,
      "outputs": []
    },
    {
      "cell_type": "code",
      "metadata": {
        "id": "4s5HdPlNeEao",
        "colab_type": "code",
        "colab": {}
      },
      "source": [
        "train_data2 = train_data/np.max(train_data,axis=0)\n",
        "test_data2 = test_data/np.max(train_data,axis=0)\n",
        "train_targets = train_targets/max_target\n",
        "test_targets = test_targets/max_target"
      ],
      "execution_count": 0,
      "outputs": []
    },
    {
      "cell_type": "code",
      "metadata": {
        "id": "aaNkioaGeF9n",
        "colab_type": "code",
        "outputId": "f2f7a09d-0c5f-49f6-8b0c-135fb31a46e6",
        "colab": {
          "base_uri": "https://localhost:8080/",
          "height": 204
        }
      },
      "source": [
        "from keras.models import Sequential\n",
        "from keras.layers import Dense\n",
        "from keras.layers import Dropout\n",
        "from keras.utils import np_utils\n",
        "from keras.regularizers import l1\n",
        "model = Sequential()\n",
        "model.add(Dense(64, input_dim=13, activation='relu', kernel_regularizer = l1(0.1)))\n",
        "model.add(Dense(1, activation='relu', kernel_regularizer = l1(0.1)))\n",
        "model.summary()"
      ],
      "execution_count": 0,
      "outputs": [
        {
          "output_type": "stream",
          "text": [
            "_________________________________________________________________\n",
            "Layer (type)                 Output Shape              Param #   \n",
            "=================================================================\n",
            "dense_5 (Dense)              (None, 64)                896       \n",
            "_________________________________________________________________\n",
            "dense_6 (Dense)              (None, 1)                 65        \n",
            "=================================================================\n",
            "Total params: 961\n",
            "Trainable params: 961\n",
            "Non-trainable params: 0\n",
            "_________________________________________________________________\n"
          ],
          "name": "stdout"
        }
      ]
    },
    {
      "cell_type": "code",
      "metadata": {
        "id": "O0W5WGYieNRK",
        "colab_type": "code",
        "colab": {}
      },
      "source": [
        "model.compile(loss='mean_absolute_error', optimizer='adam')"
      ],
      "execution_count": 0,
      "outputs": []
    },
    {
      "cell_type": "code",
      "metadata": {
        "id": "XZXT5rl7eX7M",
        "colab_type": "code",
        "outputId": "fb2454ee-a9c3-47c6-b2ec-a625b1c5758c",
        "colab": {
          "base_uri": "https://localhost:8080/",
          "height": 3434
        }
      },
      "source": [
        "history = model.fit(train_data2, train_targets, validation_data=(test_data2, test_targets), epochs=100, batch_size=32, verbose=1)"
      ],
      "execution_count": 0,
      "outputs": [
        {
          "output_type": "stream",
          "text": [
            "Train on 404 samples, validate on 102 samples\n",
            "Epoch 1/100\n",
            "404/404 [==============================] - 0s 670us/step - loss: 12.6557 - val_loss: 12.0039\n",
            "Epoch 2/100\n",
            "404/404 [==============================] - 0s 121us/step - loss: 11.5191 - val_loss: 10.9374\n",
            "Epoch 3/100\n",
            "404/404 [==============================] - 0s 126us/step - loss: 10.4702 - val_loss: 9.9140\n",
            "Epoch 4/100\n",
            "404/404 [==============================] - 0s 118us/step - loss: 9.4642 - val_loss: 8.9330\n",
            "Epoch 5/100\n",
            "404/404 [==============================] - 0s 122us/step - loss: 8.5054 - val_loss: 8.0040\n",
            "Epoch 6/100\n",
            "404/404 [==============================] - 0s 123us/step - loss: 7.6057 - val_loss: 7.1387\n",
            "Epoch 7/100\n",
            "404/404 [==============================] - 0s 119us/step - loss: 6.7663 - val_loss: 6.3336\n",
            "Epoch 8/100\n",
            "404/404 [==============================] - 0s 123us/step - loss: 5.9834 - val_loss: 5.5747\n",
            "Epoch 9/100\n",
            "404/404 [==============================] - 0s 130us/step - loss: 5.2425 - val_loss: 4.8611\n",
            "Epoch 10/100\n",
            "404/404 [==============================] - 0s 119us/step - loss: 4.5519 - val_loss: 4.1995\n",
            "Epoch 11/100\n",
            "404/404 [==============================] - 0s 120us/step - loss: 3.9124 - val_loss: 3.5872\n",
            "Epoch 12/100\n",
            "404/404 [==============================] - 0s 127us/step - loss: 3.3235 - val_loss: 3.0251\n",
            "Epoch 13/100\n",
            "404/404 [==============================] - 0s 124us/step - loss: 2.7848 - val_loss: 2.5197\n",
            "Epoch 14/100\n",
            "404/404 [==============================] - 0s 121us/step - loss: 2.3006 - val_loss: 2.0579\n",
            "Epoch 15/100\n",
            "404/404 [==============================] - 0s 117us/step - loss: 1.8580 - val_loss: 1.6440\n",
            "Epoch 16/100\n",
            "404/404 [==============================] - 0s 125us/step - loss: 1.4698 - val_loss: 1.2869\n",
            "Epoch 17/100\n",
            "404/404 [==============================] - 0s 143us/step - loss: 1.1381 - val_loss: 0.9869\n",
            "Epoch 18/100\n",
            "404/404 [==============================] - 0s 134us/step - loss: 0.8579 - val_loss: 0.7363\n",
            "Epoch 19/100\n",
            "404/404 [==============================] - 0s 119us/step - loss: 0.6306 - val_loss: 0.5392\n",
            "Epoch 20/100\n",
            "404/404 [==============================] - 0s 125us/step - loss: 0.4608 - val_loss: 0.4059\n",
            "Epoch 21/100\n",
            "404/404 [==============================] - 0s 121us/step - loss: 0.3545 - val_loss: 0.3286\n",
            "Epoch 22/100\n",
            "404/404 [==============================] - 0s 118us/step - loss: 0.2992 - val_loss: 0.2894\n",
            "Epoch 23/100\n",
            "404/404 [==============================] - 0s 126us/step - loss: 0.2679 - val_loss: 0.2666\n",
            "Epoch 24/100\n",
            "404/404 [==============================] - 0s 129us/step - loss: 0.2486 - val_loss: 0.2511\n",
            "Epoch 25/100\n",
            "404/404 [==============================] - 0s 121us/step - loss: 0.2366 - val_loss: 0.2406\n",
            "Epoch 26/100\n",
            "404/404 [==============================] - 0s 124us/step - loss: 0.2265 - val_loss: 0.2317\n",
            "Epoch 27/100\n",
            "404/404 [==============================] - 0s 127us/step - loss: 0.2179 - val_loss: 0.2225\n",
            "Epoch 28/100\n",
            "404/404 [==============================] - 0s 121us/step - loss: 0.2102 - val_loss: 0.2152\n",
            "Epoch 29/100\n",
            "404/404 [==============================] - 0s 130us/step - loss: 0.2036 - val_loss: 0.2089\n",
            "Epoch 30/100\n",
            "404/404 [==============================] - 0s 123us/step - loss: 0.1978 - val_loss: 0.2045\n",
            "Epoch 31/100\n",
            "404/404 [==============================] - 0s 127us/step - loss: 0.1937 - val_loss: 0.1995\n",
            "Epoch 32/100\n",
            "404/404 [==============================] - 0s 125us/step - loss: 0.1898 - val_loss: 0.1957\n",
            "Epoch 33/100\n",
            "404/404 [==============================] - 0s 123us/step - loss: 0.1864 - val_loss: 0.1918\n",
            "Epoch 34/100\n",
            "404/404 [==============================] - 0s 123us/step - loss: 0.1829 - val_loss: 0.1880\n",
            "Epoch 35/100\n",
            "404/404 [==============================] - 0s 125us/step - loss: 0.1795 - val_loss: 0.1848\n",
            "Epoch 36/100\n",
            "404/404 [==============================] - 0s 124us/step - loss: 0.1761 - val_loss: 0.1809\n",
            "Epoch 37/100\n",
            "404/404 [==============================] - 0s 154us/step - loss: 0.1731 - val_loss: 0.1780\n",
            "Epoch 38/100\n",
            "404/404 [==============================] - 0s 125us/step - loss: 0.1712 - val_loss: 0.1762\n",
            "Epoch 39/100\n",
            "404/404 [==============================] - 0s 120us/step - loss: 0.1692 - val_loss: 0.1739\n",
            "Epoch 40/100\n",
            "404/404 [==============================] - 0s 124us/step - loss: 0.1675 - val_loss: 0.1723\n",
            "Epoch 41/100\n",
            "404/404 [==============================] - 0s 131us/step - loss: 0.1653 - val_loss: 0.1700\n",
            "Epoch 42/100\n",
            "404/404 [==============================] - 0s 127us/step - loss: 0.1635 - val_loss: 0.1681\n",
            "Epoch 43/100\n",
            "404/404 [==============================] - 0s 126us/step - loss: 0.1619 - val_loss: 0.1662\n",
            "Epoch 44/100\n",
            "404/404 [==============================] - 0s 122us/step - loss: 0.1608 - val_loss: 0.1652\n",
            "Epoch 45/100\n",
            "404/404 [==============================] - 0s 123us/step - loss: 0.1599 - val_loss: 0.1640\n",
            "Epoch 46/100\n",
            "404/404 [==============================] - 0s 127us/step - loss: 0.1586 - val_loss: 0.1627\n",
            "Epoch 47/100\n",
            "404/404 [==============================] - 0s 124us/step - loss: 0.1577 - val_loss: 0.1616\n",
            "Epoch 48/100\n",
            "404/404 [==============================] - 0s 130us/step - loss: 0.1564 - val_loss: 0.1606\n",
            "Epoch 49/100\n",
            "404/404 [==============================] - 0s 125us/step - loss: 0.1554 - val_loss: 0.1591\n",
            "Epoch 50/100\n",
            "404/404 [==============================] - 0s 125us/step - loss: 0.1543 - val_loss: 0.1584\n",
            "Epoch 51/100\n",
            "404/404 [==============================] - 0s 124us/step - loss: 0.1533 - val_loss: 0.1571\n",
            "Epoch 52/100\n",
            "404/404 [==============================] - 0s 137us/step - loss: 0.1523 - val_loss: 0.1562\n",
            "Epoch 53/100\n",
            "404/404 [==============================] - 0s 126us/step - loss: 0.1511 - val_loss: 0.1550\n",
            "Epoch 54/100\n",
            "404/404 [==============================] - 0s 126us/step - loss: 0.1501 - val_loss: 0.1541\n",
            "Epoch 55/100\n",
            "404/404 [==============================] - 0s 128us/step - loss: 0.1491 - val_loss: 0.1533\n",
            "Epoch 56/100\n",
            "404/404 [==============================] - 0s 126us/step - loss: 0.1480 - val_loss: 0.1519\n",
            "Epoch 57/100\n",
            "404/404 [==============================] - 0s 180us/step - loss: 0.1471 - val_loss: 0.1507\n",
            "Epoch 58/100\n",
            "404/404 [==============================] - 0s 124us/step - loss: 0.1459 - val_loss: 0.1500\n",
            "Epoch 59/100\n",
            "404/404 [==============================] - 0s 130us/step - loss: 0.1449 - val_loss: 0.1489\n",
            "Epoch 60/100\n",
            "404/404 [==============================] - 0s 131us/step - loss: 0.1437 - val_loss: 0.1479\n",
            "Epoch 61/100\n",
            "404/404 [==============================] - 0s 130us/step - loss: 0.1428 - val_loss: 0.1471\n",
            "Epoch 62/100\n",
            "404/404 [==============================] - 0s 131us/step - loss: 0.1418 - val_loss: 0.1463\n",
            "Epoch 63/100\n",
            "404/404 [==============================] - 0s 127us/step - loss: 0.1413 - val_loss: 0.1452\n",
            "Epoch 64/100\n",
            "404/404 [==============================] - 0s 128us/step - loss: 0.1412 - val_loss: 0.1440\n",
            "Epoch 65/100\n",
            "404/404 [==============================] - 0s 129us/step - loss: 0.1410 - val_loss: 0.1440\n",
            "Epoch 66/100\n",
            "404/404 [==============================] - 0s 127us/step - loss: 0.1411 - val_loss: 0.1442\n",
            "Epoch 67/100\n",
            "404/404 [==============================] - 0s 128us/step - loss: 0.1410 - val_loss: 0.1445\n",
            "Epoch 68/100\n",
            "404/404 [==============================] - 0s 122us/step - loss: 0.1412 - val_loss: 0.1445\n",
            "Epoch 69/100\n",
            "404/404 [==============================] - 0s 131us/step - loss: 0.1410 - val_loss: 0.1442\n",
            "Epoch 70/100\n",
            "404/404 [==============================] - 0s 122us/step - loss: 0.1411 - val_loss: 0.1442\n",
            "Epoch 71/100\n",
            "404/404 [==============================] - 0s 130us/step - loss: 0.1410 - val_loss: 0.1438\n",
            "Epoch 72/100\n",
            "404/404 [==============================] - 0s 118us/step - loss: 0.1409 - val_loss: 0.1442\n",
            "Epoch 73/100\n",
            "404/404 [==============================] - 0s 125us/step - loss: 0.1411 - val_loss: 0.1440\n",
            "Epoch 74/100\n",
            "404/404 [==============================] - 0s 116us/step - loss: 0.1410 - val_loss: 0.1444\n",
            "Epoch 75/100\n",
            "404/404 [==============================] - 0s 123us/step - loss: 0.1410 - val_loss: 0.1441\n",
            "Epoch 76/100\n",
            "404/404 [==============================] - 0s 155us/step - loss: 0.1411 - val_loss: 0.1438\n",
            "Epoch 77/100\n",
            "404/404 [==============================] - 0s 120us/step - loss: 0.1410 - val_loss: 0.1441\n",
            "Epoch 78/100\n",
            "404/404 [==============================] - 0s 123us/step - loss: 0.1410 - val_loss: 0.1437\n",
            "Epoch 79/100\n",
            "404/404 [==============================] - 0s 122us/step - loss: 0.1411 - val_loss: 0.1437\n",
            "Epoch 80/100\n",
            "404/404 [==============================] - 0s 118us/step - loss: 0.1411 - val_loss: 0.1443\n",
            "Epoch 81/100\n",
            "404/404 [==============================] - 0s 123us/step - loss: 0.1410 - val_loss: 0.1444\n",
            "Epoch 82/100\n",
            "404/404 [==============================] - 0s 120us/step - loss: 0.1412 - val_loss: 0.1438\n",
            "Epoch 83/100\n",
            "404/404 [==============================] - 0s 123us/step - loss: 0.1411 - val_loss: 0.1437\n",
            "Epoch 84/100\n",
            "404/404 [==============================] - 0s 122us/step - loss: 0.1412 - val_loss: 0.1441\n",
            "Epoch 85/100\n",
            "404/404 [==============================] - 0s 135us/step - loss: 0.1409 - val_loss: 0.1441\n",
            "Epoch 86/100\n",
            "404/404 [==============================] - 0s 123us/step - loss: 0.1411 - val_loss: 0.1441\n",
            "Epoch 87/100\n",
            "404/404 [==============================] - 0s 127us/step - loss: 0.1412 - val_loss: 0.1442\n",
            "Epoch 88/100\n",
            "404/404 [==============================] - 0s 117us/step - loss: 0.1408 - val_loss: 0.1442\n",
            "Epoch 89/100\n",
            "404/404 [==============================] - 0s 119us/step - loss: 0.1411 - val_loss: 0.1443\n",
            "Epoch 90/100\n",
            "404/404 [==============================] - 0s 127us/step - loss: 0.1410 - val_loss: 0.1436\n",
            "Epoch 91/100\n",
            "404/404 [==============================] - 0s 131us/step - loss: 0.1411 - val_loss: 0.1436\n",
            "Epoch 92/100\n",
            "404/404 [==============================] - 0s 126us/step - loss: 0.1409 - val_loss: 0.1441\n",
            "Epoch 93/100\n",
            "404/404 [==============================] - 0s 119us/step - loss: 0.1410 - val_loss: 0.1443\n",
            "Epoch 94/100\n",
            "404/404 [==============================] - 0s 122us/step - loss: 0.1410 - val_loss: 0.1433\n",
            "Epoch 95/100\n",
            "404/404 [==============================] - 0s 123us/step - loss: 0.1410 - val_loss: 0.1444\n",
            "Epoch 96/100\n",
            "404/404 [==============================] - 0s 180us/step - loss: 0.1411 - val_loss: 0.1439\n",
            "Epoch 97/100\n",
            "404/404 [==============================] - 0s 122us/step - loss: 0.1409 - val_loss: 0.1437\n",
            "Epoch 98/100\n",
            "404/404 [==============================] - 0s 125us/step - loss: 0.1411 - val_loss: 0.1449\n",
            "Epoch 99/100\n",
            "404/404 [==============================] - 0s 119us/step - loss: 0.1411 - val_loss: 0.1443\n",
            "Epoch 100/100\n",
            "404/404 [==============================] - 0s 122us/step - loss: 0.1411 - val_loss: 0.1438\n"
          ],
          "name": "stdout"
        }
      ]
    },
    {
      "cell_type": "code",
      "metadata": {
        "id": "p2NausoueZpw",
        "colab_type": "code",
        "outputId": "a73e4cf9-52d6-4cee-f754-1d50afbae9fa",
        "colab": {
          "base_uri": "https://localhost:8080/",
          "height": 34
        }
      },
      "source": [
        "np.mean(np.abs(model.predict(test_data2) - test_targets))*max_target"
      ],
      "execution_count": 0,
      "outputs": [
        {
          "output_type": "execute_result",
          "data": {
            "text/plain": [
              "6.647673568325472"
            ]
          },
          "metadata": {
            "tags": []
          },
          "execution_count": 25
        }
      ]
    },
    {
      "cell_type": "code",
      "metadata": {
        "id": "8vyV433aewp0",
        "colab_type": "code",
        "colab": {}
      },
      "source": [
        ""
      ],
      "execution_count": 0,
      "outputs": []
    },
    {
      "cell_type": "code",
      "metadata": {
        "id": "Z1Ab96uwe7ax",
        "colab_type": "code",
        "colab": {}
      },
      "source": [
        ""
      ],
      "execution_count": 0,
      "outputs": []
    },
    {
      "cell_type": "markdown",
      "metadata": {
        "id": "2mzJC5nqe7sq",
        "colab_type": "text"
      },
      "source": [
        "# Custom loss function"
      ]
    },
    {
      "cell_type": "code",
      "metadata": {
        "id": "y0Gn38N2e81P",
        "colab_type": "code",
        "colab": {}
      },
      "source": [
        "import keras.backend as K\n",
        "def loss_function(y_true, y_pred):\n",
        "    return K.square(K.sqrt(y_pred)-K.sqrt(y_true))"
      ],
      "execution_count": 0,
      "outputs": []
    },
    {
      "cell_type": "code",
      "metadata": {
        "id": "2YbUaMPde9dj",
        "colab_type": "code",
        "colab": {}
      },
      "source": [
        "model.compile(loss=loss_function, optimizer='adam')"
      ],
      "execution_count": 0,
      "outputs": []
    },
    {
      "cell_type": "code",
      "metadata": {
        "id": "O2vIYn09e-9Q",
        "colab_type": "code",
        "outputId": "fbc25f04-ff74-466e-b78e-cfb52a341be8",
        "colab": {
          "base_uri": "https://localhost:8080/",
          "height": 3434
        }
      },
      "source": [
        "history = model.fit(train_data2, train_targets, validation_data=(test_data2, test_targets), epochs=100, batch_size=32, verbose=1)"
      ],
      "execution_count": 0,
      "outputs": [
        {
          "output_type": "stream",
          "text": [
            "Train on 404 samples, validate on 102 samples\n",
            "Epoch 1/100\n",
            "404/404 [==============================] - 0s 830us/step - loss: 0.0462 - val_loss: 0.0324\n",
            "Epoch 2/100\n",
            "404/404 [==============================] - 0s 114us/step - loss: 0.0345 - val_loss: 0.0324\n",
            "Epoch 3/100\n",
            "404/404 [==============================] - 0s 115us/step - loss: 0.0291 - val_loss: 0.0314\n",
            "Epoch 4/100\n",
            "404/404 [==============================] - 0s 117us/step - loss: 0.0265 - val_loss: 0.0291\n",
            "Epoch 5/100\n",
            "404/404 [==============================] - 0s 116us/step - loss: 0.0276 - val_loss: 0.0278\n",
            "Epoch 6/100\n",
            "404/404 [==============================] - 0s 118us/step - loss: 0.0272 - val_loss: 0.0275\n",
            "Epoch 7/100\n",
            "404/404 [==============================] - 0s 119us/step - loss: 0.0266 - val_loss: 0.0299\n",
            "Epoch 8/100\n",
            "404/404 [==============================] - 0s 125us/step - loss: 0.0267 - val_loss: 0.0287\n",
            "Epoch 9/100\n",
            "404/404 [==============================] - 0s 115us/step - loss: 0.0276 - val_loss: 0.0271\n",
            "Epoch 10/100\n",
            "404/404 [==============================] - 0s 112us/step - loss: 0.0271 - val_loss: 0.0292\n",
            "Epoch 11/100\n",
            "404/404 [==============================] - 0s 131us/step - loss: 0.0267 - val_loss: 0.0268\n",
            "Epoch 12/100\n",
            "404/404 [==============================] - 0s 118us/step - loss: 0.0269 - val_loss: 0.0270\n",
            "Epoch 13/100\n",
            "404/404 [==============================] - 0s 122us/step - loss: 0.0273 - val_loss: 0.0271\n",
            "Epoch 14/100\n",
            "404/404 [==============================] - 0s 121us/step - loss: 0.0266 - val_loss: 0.0302\n",
            "Epoch 15/100\n",
            "404/404 [==============================] - 0s 110us/step - loss: 0.0268 - val_loss: 0.0284\n",
            "Epoch 16/100\n",
            "404/404 [==============================] - 0s 115us/step - loss: 0.0270 - val_loss: 0.0262\n",
            "Epoch 17/100\n",
            "404/404 [==============================] - 0s 117us/step - loss: 0.0273 - val_loss: 0.0302\n",
            "Epoch 18/100\n",
            "404/404 [==============================] - 0s 116us/step - loss: 0.0266 - val_loss: 0.0294\n",
            "Epoch 19/100\n",
            "404/404 [==============================] - 0s 130us/step - loss: 0.0268 - val_loss: 0.0250\n",
            "Epoch 20/100\n",
            "404/404 [==============================] - 0s 129us/step - loss: 0.0275 - val_loss: 0.0266\n",
            "Epoch 21/100\n",
            "404/404 [==============================] - 0s 119us/step - loss: 0.0269 - val_loss: 0.0292\n",
            "Epoch 22/100\n",
            "404/404 [==============================] - 0s 115us/step - loss: 0.0267 - val_loss: 0.0294\n",
            "Epoch 23/100\n",
            "404/404 [==============================] - 0s 113us/step - loss: 0.0269 - val_loss: 0.0270\n",
            "Epoch 24/100\n",
            "404/404 [==============================] - 0s 116us/step - loss: 0.0278 - val_loss: 0.0264\n",
            "Epoch 25/100\n",
            "404/404 [==============================] - 0s 107us/step - loss: 0.0259 - val_loss: 0.0295\n",
            "Epoch 26/100\n",
            "404/404 [==============================] - 0s 114us/step - loss: 0.0273 - val_loss: 0.0288\n",
            "Epoch 27/100\n",
            "404/404 [==============================] - 0s 113us/step - loss: 0.0272 - val_loss: 0.0253\n",
            "Epoch 28/100\n",
            "404/404 [==============================] - 0s 117us/step - loss: 0.0273 - val_loss: 0.0289\n",
            "Epoch 29/100\n",
            "404/404 [==============================] - 0s 109us/step - loss: 0.0268 - val_loss: 0.0276\n",
            "Epoch 30/100\n",
            "404/404 [==============================] - 0s 117us/step - loss: 0.0263 - val_loss: 0.0277\n",
            "Epoch 31/100\n",
            "404/404 [==============================] - 0s 107us/step - loss: 0.0281 - val_loss: 0.0258\n",
            "Epoch 32/100\n",
            "404/404 [==============================] - 0s 103us/step - loss: 0.0264 - val_loss: 0.0309\n",
            "Epoch 33/100\n",
            "404/404 [==============================] - 0s 120us/step - loss: 0.0265 - val_loss: 0.0291\n",
            "Epoch 34/100\n",
            "404/404 [==============================] - 0s 116us/step - loss: 0.0276 - val_loss: 0.0279\n",
            "Epoch 35/100\n",
            "404/404 [==============================] - 0s 112us/step - loss: 0.0273 - val_loss: 0.0281\n",
            "Epoch 36/100\n",
            "404/404 [==============================] - 0s 115us/step - loss: 0.0265 - val_loss: 0.0286\n",
            "Epoch 37/100\n",
            "404/404 [==============================] - 0s 120us/step - loss: 0.0272 - val_loss: 0.0275\n",
            "Epoch 38/100\n",
            "404/404 [==============================] - 0s 130us/step - loss: 0.0273 - val_loss: 0.0265\n",
            "Epoch 39/100\n",
            "404/404 [==============================] - 0s 130us/step - loss: 0.0273 - val_loss: 0.0298\n",
            "Epoch 40/100\n",
            "404/404 [==============================] - 0s 140us/step - loss: 0.0261 - val_loss: 0.0296\n",
            "Epoch 41/100\n",
            "404/404 [==============================] - 0s 142us/step - loss: 0.0273 - val_loss: 0.0284\n",
            "Epoch 42/100\n",
            "404/404 [==============================] - 0s 114us/step - loss: 0.0277 - val_loss: 0.0276\n",
            "Epoch 43/100\n",
            "404/404 [==============================] - 0s 123us/step - loss: 0.0264 - val_loss: 0.0292\n",
            "Epoch 44/100\n",
            "404/404 [==============================] - 0s 125us/step - loss: 0.0266 - val_loss: 0.0297\n",
            "Epoch 45/100\n",
            "404/404 [==============================] - 0s 113us/step - loss: 0.0278 - val_loss: 0.0269\n",
            "Epoch 46/100\n",
            "404/404 [==============================] - 0s 124us/step - loss: 0.0271 - val_loss: 0.0277\n",
            "Epoch 47/100\n",
            "404/404 [==============================] - 0s 121us/step - loss: 0.0264 - val_loss: 0.0268\n",
            "Epoch 48/100\n",
            "404/404 [==============================] - 0s 121us/step - loss: 0.0271 - val_loss: 0.0259\n",
            "Epoch 49/100\n",
            "404/404 [==============================] - 0s 122us/step - loss: 0.0273 - val_loss: 0.0262\n",
            "Epoch 50/100\n",
            "404/404 [==============================] - 0s 121us/step - loss: 0.0269 - val_loss: 0.0307\n",
            "Epoch 51/100\n",
            "404/404 [==============================] - 0s 126us/step - loss: 0.0264 - val_loss: 0.0276\n",
            "Epoch 52/100\n",
            "404/404 [==============================] - 0s 130us/step - loss: 0.0276 - val_loss: 0.0259\n",
            "Epoch 53/100\n",
            "404/404 [==============================] - 0s 122us/step - loss: 0.0272 - val_loss: 0.0281\n",
            "Epoch 54/100\n",
            "404/404 [==============================] - 0s 122us/step - loss: 0.0266 - val_loss: 0.0297\n",
            "Epoch 55/100\n",
            "404/404 [==============================] - 0s 122us/step - loss: 0.0267 - val_loss: 0.0258\n",
            "Epoch 56/100\n",
            "404/404 [==============================] - 0s 127us/step - loss: 0.0277 - val_loss: 0.0273\n",
            "Epoch 57/100\n",
            "404/404 [==============================] - 0s 125us/step - loss: 0.0268 - val_loss: 0.0291\n",
            "Epoch 58/100\n",
            "404/404 [==============================] - 0s 120us/step - loss: 0.0266 - val_loss: 0.0302\n",
            "Epoch 59/100\n",
            "404/404 [==============================] - 0s 144us/step - loss: 0.0272 - val_loss: 0.0276\n",
            "Epoch 60/100\n",
            "404/404 [==============================] - 0s 154us/step - loss: 0.0274 - val_loss: 0.0275\n",
            "Epoch 61/100\n",
            "404/404 [==============================] - 0s 128us/step - loss: 0.0266 - val_loss: 0.0307\n",
            "Epoch 62/100\n",
            "404/404 [==============================] - 0s 124us/step - loss: 0.0265 - val_loss: 0.0296\n",
            "Epoch 63/100\n",
            "404/404 [==============================] - 0s 123us/step - loss: 0.0281 - val_loss: 0.0257\n",
            "Epoch 64/100\n",
            "404/404 [==============================] - 0s 122us/step - loss: 0.0266 - val_loss: 0.0281\n",
            "Epoch 65/100\n",
            "404/404 [==============================] - 0s 121us/step - loss: 0.0269 - val_loss: 0.0277\n",
            "Epoch 66/100\n",
            "404/404 [==============================] - 0s 125us/step - loss: 0.0268 - val_loss: 0.0268\n",
            "Epoch 67/100\n",
            "404/404 [==============================] - 0s 121us/step - loss: 0.0275 - val_loss: 0.0261\n",
            "Epoch 68/100\n",
            "404/404 [==============================] - 0s 126us/step - loss: 0.0268 - val_loss: 0.0301\n",
            "Epoch 69/100\n",
            "404/404 [==============================] - 0s 126us/step - loss: 0.0263 - val_loss: 0.0298\n",
            "Epoch 70/100\n",
            "404/404 [==============================] - 0s 131us/step - loss: 0.0275 - val_loss: 0.0260\n",
            "Epoch 71/100\n",
            "404/404 [==============================] - 0s 127us/step - loss: 0.0273 - val_loss: 0.0276\n",
            "Epoch 72/100\n",
            "404/404 [==============================] - 0s 128us/step - loss: 0.0263 - val_loss: 0.0297\n",
            "Epoch 73/100\n",
            "404/404 [==============================] - 0s 124us/step - loss: 0.0274 - val_loss: 0.0275\n",
            "Epoch 74/100\n",
            "404/404 [==============================] - 0s 127us/step - loss: 0.0271 - val_loss: 0.0269\n",
            "Epoch 75/100\n",
            "404/404 [==============================] - 0s 129us/step - loss: 0.0271 - val_loss: 0.0282\n",
            "Epoch 76/100\n",
            "404/404 [==============================] - 0s 124us/step - loss: 0.0266 - val_loss: 0.0295\n",
            "Epoch 77/100\n",
            "404/404 [==============================] - 0s 123us/step - loss: 0.0267 - val_loss: 0.0279\n",
            "Epoch 78/100\n",
            "404/404 [==============================] - 0s 130us/step - loss: 0.0279 - val_loss: 0.0286\n",
            "Epoch 79/100\n",
            "404/404 [==============================] - 0s 141us/step - loss: 0.0263 - val_loss: 0.0293\n",
            "Epoch 80/100\n",
            "404/404 [==============================] - 0s 171us/step - loss: 0.0268 - val_loss: 0.0279\n",
            "Epoch 81/100\n",
            "404/404 [==============================] - 0s 121us/step - loss: 0.0275 - val_loss: 0.0265\n",
            "Epoch 82/100\n",
            "404/404 [==============================] - 0s 127us/step - loss: 0.0273 - val_loss: 0.0277\n",
            "Epoch 83/100\n",
            "404/404 [==============================] - 0s 124us/step - loss: 0.0263 - val_loss: 0.0272\n",
            "Epoch 84/100\n",
            "404/404 [==============================] - 0s 129us/step - loss: 0.0273 - val_loss: 0.0267\n",
            "Epoch 85/100\n",
            "404/404 [==============================] - 0s 129us/step - loss: 0.0273 - val_loss: 0.0261\n",
            "Epoch 86/100\n",
            "404/404 [==============================] - 0s 155us/step - loss: 0.0268 - val_loss: 0.0319\n",
            "Epoch 87/100\n",
            "404/404 [==============================] - 0s 122us/step - loss: 0.0267 - val_loss: 0.0279\n",
            "Epoch 88/100\n",
            "404/404 [==============================] - 0s 134us/step - loss: 0.0270 - val_loss: 0.0270\n",
            "Epoch 89/100\n",
            "404/404 [==============================] - 0s 129us/step - loss: 0.0278 - val_loss: 0.0287\n",
            "Epoch 90/100\n",
            "404/404 [==============================] - 0s 124us/step - loss: 0.0263 - val_loss: 0.0293\n",
            "Epoch 91/100\n",
            "404/404 [==============================] - 0s 128us/step - loss: 0.0271 - val_loss: 0.0257\n",
            "Epoch 92/100\n",
            "404/404 [==============================] - 0s 127us/step - loss: 0.0274 - val_loss: 0.0263\n",
            "Epoch 93/100\n",
            "404/404 [==============================] - 0s 126us/step - loss: 0.0270 - val_loss: 0.0297\n",
            "Epoch 94/100\n",
            "404/404 [==============================] - 0s 125us/step - loss: 0.0263 - val_loss: 0.0292\n",
            "Epoch 95/100\n",
            "404/404 [==============================] - 0s 122us/step - loss: 0.0275 - val_loss: 0.0271\n",
            "Epoch 96/100\n",
            "404/404 [==============================] - 0s 126us/step - loss: 0.0271 - val_loss: 0.0280\n",
            "Epoch 97/100\n",
            "404/404 [==============================] - 0s 123us/step - loss: 0.0267 - val_loss: 0.0307\n",
            "Epoch 98/100\n",
            "404/404 [==============================] - 0s 119us/step - loss: 0.0267 - val_loss: 0.0284\n",
            "Epoch 99/100\n",
            "404/404 [==============================] - 0s 158us/step - loss: 0.0274 - val_loss: 0.0260\n",
            "Epoch 100/100\n",
            "404/404 [==============================] - 0s 123us/step - loss: 0.0275 - val_loss: 0.0283\n"
          ],
          "name": "stdout"
        }
      ]
    },
    {
      "cell_type": "code",
      "metadata": {
        "id": "7TRcV__efF60",
        "colab_type": "code",
        "outputId": "09e2b0a7-d59b-4581-e341-5b3d2e8fd574",
        "colab": {
          "base_uri": "https://localhost:8080/",
          "height": 34
        }
      },
      "source": [
        "np.mean(np.abs(model.predict(test_data2) - test_targets))*max_target"
      ],
      "execution_count": 0,
      "outputs": [
        {
          "output_type": "execute_result",
          "data": {
            "text/plain": [
              "6.533501171112427"
            ]
          },
          "metadata": {
            "tags": []
          },
          "execution_count": 31
        }
      ]
    },
    {
      "cell_type": "code",
      "metadata": {
        "id": "54pVIf-TfIGQ",
        "colab_type": "code",
        "colab": {}
      },
      "source": [
        ""
      ],
      "execution_count": 0,
      "outputs": []
    }
  ]
}