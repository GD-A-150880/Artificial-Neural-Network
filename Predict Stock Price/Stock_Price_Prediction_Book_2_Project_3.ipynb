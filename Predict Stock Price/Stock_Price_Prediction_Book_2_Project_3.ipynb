{
  "nbformat": 4,
  "nbformat_minor": 0,
  "metadata": {
    "colab": {
      "name": "Stock Price Prediction Book 2 Project 3.ipynb",
      "provenance": [],
      "collapsed_sections": []
    },
    "kernelspec": {
      "name": "python3",
      "display_name": "Python 3"
    },
    "accelerator": "GPU"
  },
  "cells": [
    {
      "cell_type": "code",
      "metadata": {
        "id": "_XdrpR59cUDx",
        "colab_type": "code",
        "outputId": "dbc089c5-7def-4008-9aaf-a2d09d18f3a8",
        "colab": {
          "base_uri": "https://localhost:8080/",
          "height": 384
        }
      },
      "source": [
        "\n",
        "!wget https://www.dropbox.com/s/6fab2uqje8e5bf5/stock_data.csv"
      ],
      "execution_count": 0,
      "outputs": [
        {
          "output_type": "stream",
          "text": [
            "--2019-06-24 01:34:26--  https://www.dropbox.com/s/6fab2uqje8e5bf5/stock_data.csv\n",
            "Resolving www.dropbox.com (www.dropbox.com)... 162.125.3.1, 2620:100:601b:1::a27d:801\n",
            "Connecting to www.dropbox.com (www.dropbox.com)|162.125.3.1|:443... connected.\n",
            "HTTP request sent, awaiting response... 301 Moved Permanently\n",
            "Location: /s/raw/6fab2uqje8e5bf5/stock_data.csv [following]\n",
            "--2019-06-24 01:34:27--  https://www.dropbox.com/s/raw/6fab2uqje8e5bf5/stock_data.csv\n",
            "Reusing existing connection to www.dropbox.com:443.\n",
            "HTTP request sent, awaiting response... 302 Found\n",
            "Location: https://ucb64dc736e3432e658c9114f8f7.dl.dropboxusercontent.com/cd/0/inline/AjY3SLRuzdXwHcJIBkG9cP-JKFn987FNqW0qk7S2DkDG3Rs32xy_uEdvbW5-HUTeCatmZiqUfCWrSnPAf1YrSKjtb7A3ZpCuamkbEMBOoagUbA/file# [following]\n",
            "--2019-06-24 01:34:27--  https://ucb64dc736e3432e658c9114f8f7.dl.dropboxusercontent.com/cd/0/inline/AjY3SLRuzdXwHcJIBkG9cP-JKFn987FNqW0qk7S2DkDG3Rs32xy_uEdvbW5-HUTeCatmZiqUfCWrSnPAf1YrSKjtb7A3ZpCuamkbEMBOoagUbA/file\n",
            "Resolving ucb64dc736e3432e658c9114f8f7.dl.dropboxusercontent.com (ucb64dc736e3432e658c9114f8f7.dl.dropboxusercontent.com)... 162.125.8.6, 2620:100:601b:6::a27d:806\n",
            "Connecting to ucb64dc736e3432e658c9114f8f7.dl.dropboxusercontent.com (ucb64dc736e3432e658c9114f8f7.dl.dropboxusercontent.com)|162.125.8.6|:443... connected.\n",
            "HTTP request sent, awaiting response... 200 OK\n",
            "Length: 169042 (165K) [text/plain]\n",
            "Saving to: ‘stock_data.csv’\n",
            "\n",
            "stock_data.csv      100%[===================>] 165.08K  --.-KB/s    in 0.06s   \n",
            "\n",
            "2019-06-24 01:34:28 (2.82 MB/s) - ‘stock_data.csv’ saved [169042/169042]\n",
            "\n"
          ],
          "name": "stdout"
        }
      ]
    },
    {
      "cell_type": "code",
      "metadata": {
        "id": "XpzI-VAwdphr",
        "colab_type": "code",
        "outputId": "3b9b9793-98e6-454c-ca12-aa523a4e6a9c",
        "colab": {
          "base_uri": "https://localhost:8080/",
          "height": 202
        }
      },
      "source": [
        "import pandas as pd\n",
        "df=pd.read_csv('stock_data.csv',parse_dates=['Date'] )\n",
        "df.dtypes\n",
        "df.head()"
      ],
      "execution_count": 0,
      "outputs": [
        {
          "output_type": "execute_result",
          "data": {
            "text/html": [
              "<div>\n",
              "<style scoped>\n",
              "    .dataframe tbody tr th:only-of-type {\n",
              "        vertical-align: middle;\n",
              "    }\n",
              "\n",
              "    .dataframe tbody tr th {\n",
              "        vertical-align: top;\n",
              "    }\n",
              "\n",
              "    .dataframe thead th {\n",
              "        text-align: right;\n",
              "    }\n",
              "</style>\n",
              "<table border=\"1\" class=\"dataframe\">\n",
              "  <thead>\n",
              "    <tr style=\"text-align: right;\">\n",
              "      <th></th>\n",
              "      <th>Date</th>\n",
              "      <th>Open</th>\n",
              "      <th>High</th>\n",
              "      <th>Low</th>\n",
              "      <th>Close</th>\n",
              "      <th>Adj Close</th>\n",
              "      <th>Volume</th>\n",
              "    </tr>\n",
              "  </thead>\n",
              "  <tbody>\n",
              "    <tr>\n",
              "      <th>0</th>\n",
              "      <td>2009-12-31</td>\n",
              "      <td>137.089996</td>\n",
              "      <td>137.279999</td>\n",
              "      <td>134.520004</td>\n",
              "      <td>134.520004</td>\n",
              "      <td>134.520004</td>\n",
              "      <td>4523000</td>\n",
              "    </tr>\n",
              "    <tr>\n",
              "      <th>1</th>\n",
              "      <td>2010-01-04</td>\n",
              "      <td>136.250000</td>\n",
              "      <td>136.610001</td>\n",
              "      <td>133.139999</td>\n",
              "      <td>133.899994</td>\n",
              "      <td>133.899994</td>\n",
              "      <td>7599900</td>\n",
              "    </tr>\n",
              "    <tr>\n",
              "      <th>2</th>\n",
              "      <td>2010-01-05</td>\n",
              "      <td>133.429993</td>\n",
              "      <td>135.479996</td>\n",
              "      <td>131.809998</td>\n",
              "      <td>134.690002</td>\n",
              "      <td>134.690002</td>\n",
              "      <td>8851900</td>\n",
              "    </tr>\n",
              "    <tr>\n",
              "      <th>3</th>\n",
              "      <td>2010-01-06</td>\n",
              "      <td>134.600006</td>\n",
              "      <td>134.729996</td>\n",
              "      <td>131.649994</td>\n",
              "      <td>132.250000</td>\n",
              "      <td>132.250000</td>\n",
              "      <td>7178800</td>\n",
              "    </tr>\n",
              "    <tr>\n",
              "      <th>4</th>\n",
              "      <td>2010-01-07</td>\n",
              "      <td>132.009995</td>\n",
              "      <td>132.320007</td>\n",
              "      <td>128.800003</td>\n",
              "      <td>130.000000</td>\n",
              "      <td>130.000000</td>\n",
              "      <td>11030200</td>\n",
              "    </tr>\n",
              "  </tbody>\n",
              "</table>\n",
              "</div>"
            ],
            "text/plain": [
              "        Date        Open        High  ...       Close   Adj Close    Volume\n",
              "0 2009-12-31  137.089996  137.279999  ...  134.520004  134.520004   4523000\n",
              "1 2010-01-04  136.250000  136.610001  ...  133.899994  133.899994   7599900\n",
              "2 2010-01-05  133.429993  135.479996  ...  134.690002  134.690002   8851900\n",
              "3 2010-01-06  134.600006  134.729996  ...  132.250000  132.250000   7178800\n",
              "4 2010-01-07  132.009995  132.320007  ...  130.000000  130.000000  11030200\n",
              "\n",
              "[5 rows x 7 columns]"
            ]
          },
          "metadata": {
            "tags": []
          },
          "execution_count": 4
        }
      ]
    },
    {
      "cell_type": "code",
      "metadata": {
        "id": "79AVWNMg1s4O",
        "colab_type": "code",
        "colab": {}
      },
      "source": [
        "df['Day']=df['Date'].dt.day\n",
        "df['Month']=df['Date'].dt.month\n",
        "df['Year']=df['Date'].dt.year"
      ],
      "execution_count": 0,
      "outputs": []
    },
    {
      "cell_type": "code",
      "metadata": {
        "id": "sg2-_DV92nww",
        "colab_type": "code",
        "outputId": "7235733c-44a4-4dcb-ae5e-254a1270d0b8",
        "colab": {
          "base_uri": "https://localhost:8080/",
          "height": 35
        }
      },
      "source": [
        "df.shape\n"
      ],
      "execution_count": 0,
      "outputs": [
        {
          "output_type": "execute_result",
          "data": {
            "text/plain": [
              "(2261, 10)"
            ]
          },
          "metadata": {
            "tags": []
          },
          "execution_count": 6
        }
      ]
    },
    {
      "cell_type": "code",
      "metadata": {
        "id": "Fouj5hml2qSi",
        "colab_type": "code",
        "colab": {}
      },
      "source": [
        "x= []\n",
        "y = []\n",
        "for i in range(df.shape[0]-5):\n",
        "  \n",
        "  x.append(df.loc[i:(i+4)]['Close'])\n",
        "  y.append(df.loc[i+5]['Close'])"
      ],
      "execution_count": 0,
      "outputs": []
    },
    {
      "cell_type": "code",
      "metadata": {
        "id": "_aqHzzUb4cws",
        "colab_type": "code",
        "colab": {}
      },
      "source": [
        "import numpy as np\n",
        "X=np.array(x)\n",
        "y=np.array(y)"
      ],
      "execution_count": 0,
      "outputs": []
    },
    {
      "cell_type": "code",
      "metadata": {
        "id": "nkvalTvlIFLS",
        "colab_type": "code",
        "colab": {}
      },
      "source": [
        "from sklearn.model_selection import train_test_split\n",
        "X_train, X_test, y_train, y_test = train_test_split(X, y, test_size=0.30,random_state=10)"
      ],
      "execution_count": 0,
      "outputs": []
    },
    {
      "cell_type": "code",
      "metadata": {
        "id": "GZwuICZIIevW",
        "colab_type": "code",
        "outputId": "7e598b78-a5b6-4ea6-effb-c528e9016d29",
        "colab": {
          "base_uri": "https://localhost:8080/",
          "height": 367
        }
      },
      "source": [
        "from keras.layers import Dense\n",
        "from keras.models import Sequential, Model\n",
        "model = Sequential()\n",
        "model.add(Dense(100, input_dim = 5, activation = 'relu'))\n",
        "model.add(Dense(1,activation='linear'))\n",
        "model.summary()"
      ],
      "execution_count": 0,
      "outputs": [
        {
          "output_type": "stream",
          "text": [
            "Using TensorFlow backend.\n",
            "WARNING: Logging before flag parsing goes to stderr.\n",
            "W0624 01:38:12.360133 140319138682752 deprecation_wrapper.py:119] From /usr/local/lib/python3.6/dist-packages/keras/backend/tensorflow_backend.py:74: The name tf.get_default_graph is deprecated. Please use tf.compat.v1.get_default_graph instead.\n",
            "\n",
            "W0624 01:38:12.393682 140319138682752 deprecation_wrapper.py:119] From /usr/local/lib/python3.6/dist-packages/keras/backend/tensorflow_backend.py:517: The name tf.placeholder is deprecated. Please use tf.compat.v1.placeholder instead.\n",
            "\n",
            "W0624 01:38:12.401005 140319138682752 deprecation_wrapper.py:119] From /usr/local/lib/python3.6/dist-packages/keras/backend/tensorflow_backend.py:4138: The name tf.random_uniform is deprecated. Please use tf.random.uniform instead.\n",
            "\n"
          ],
          "name": "stderr"
        },
        {
          "output_type": "stream",
          "text": [
            "_________________________________________________________________\n",
            "Layer (type)                 Output Shape              Param #   \n",
            "=================================================================\n",
            "dense_1 (Dense)              (None, 100)               600       \n",
            "_________________________________________________________________\n",
            "dense_2 (Dense)              (None, 1)                 101       \n",
            "=================================================================\n",
            "Total params: 701\n",
            "Trainable params: 701\n",
            "Non-trainable params: 0\n",
            "_________________________________________________________________\n"
          ],
          "name": "stdout"
        }
      ]
    },
    {
      "cell_type": "code",
      "metadata": {
        "id": "K-gqsnOsIhwT",
        "colab_type": "code",
        "outputId": "ebe93c54-6ae5-49f7-c8fe-86b1ef8de1ef",
        "colab": {
          "base_uri": "https://localhost:8080/",
          "height": 72
        }
      },
      "source": [
        "model.compile(optimizer='adam', loss='mean_squared_error')"
      ],
      "execution_count": 0,
      "outputs": [
        {
          "output_type": "stream",
          "text": [
            "W0624 01:38:27.684942 140319138682752 deprecation_wrapper.py:119] From /usr/local/lib/python3.6/dist-packages/keras/optimizers.py:790: The name tf.train.Optimizer is deprecated. Please use tf.compat.v1.train.Optimizer instead.\n",
            "\n"
          ],
          "name": "stderr"
        }
      ]
    },
    {
      "cell_type": "code",
      "metadata": {
        "id": "Bq32WrwvIl0o",
        "colab_type": "code",
        "outputId": "7caffec0-62de-4a17-bd96-00492387ba86",
        "colab": {
          "base_uri": "https://localhost:8080/",
          "height": 3608
        }
      },
      "source": [
        "model.fit(X_train, y_train, epochs=100, batch_size=64, validation_data=(X_test, y_test), verbose = 1)"
      ],
      "execution_count": 0,
      "outputs": [
        {
          "output_type": "stream",
          "text": [
            "W0624 01:38:29.932549 140319138682752 deprecation_wrapper.py:119] From /usr/local/lib/python3.6/dist-packages/keras/backend/tensorflow_backend.py:986: The name tf.assign_add is deprecated. Please use tf.compat.v1.assign_add instead.\n",
            "\n",
            "W0624 01:38:29.992995 140319138682752 deprecation_wrapper.py:119] From /usr/local/lib/python3.6/dist-packages/keras/backend/tensorflow_backend.py:973: The name tf.assign is deprecated. Please use tf.compat.v1.assign instead.\n",
            "\n"
          ],
          "name": "stderr"
        },
        {
          "output_type": "stream",
          "text": [
            "Train on 1579 samples, validate on 677 samples\n",
            "Epoch 1/100\n",
            "1579/1579 [==============================] - 4s 2ms/step - loss: 274846.5250 - val_loss: 42882.1660\n",
            "Epoch 2/100\n",
            "1579/1579 [==============================] - 0s 46us/step - loss: 8627.8580 - val_loss: 2864.3122\n",
            "Epoch 3/100\n",
            "1579/1579 [==============================] - 0s 46us/step - loss: 1421.9641 - val_loss: 393.9907\n",
            "Epoch 4/100\n",
            "1579/1579 [==============================] - 0s 45us/step - loss: 386.2323 - val_loss: 389.4968\n",
            "Epoch 5/100\n",
            "1579/1579 [==============================] - 0s 48us/step - loss: 363.8346 - val_loss: 391.3392\n",
            "Epoch 6/100\n",
            "1579/1579 [==============================] - 0s 47us/step - loss: 362.8275 - val_loss: 389.4190\n",
            "Epoch 7/100\n",
            "1579/1579 [==============================] - 0s 53us/step - loss: 363.4128 - val_loss: 388.7475\n",
            "Epoch 8/100\n",
            "1579/1579 [==============================] - 0s 48us/step - loss: 362.4402 - val_loss: 389.3399\n",
            "Epoch 9/100\n",
            "1579/1579 [==============================] - 0s 47us/step - loss: 363.4886 - val_loss: 388.9724\n",
            "Epoch 10/100\n",
            "1579/1579 [==============================] - 0s 45us/step - loss: 362.8453 - val_loss: 387.1613\n",
            "Epoch 11/100\n",
            "1579/1579 [==============================] - 0s 48us/step - loss: 361.5258 - val_loss: 387.1733\n",
            "Epoch 12/100\n",
            "1579/1579 [==============================] - 0s 47us/step - loss: 364.0372 - val_loss: 385.8798\n",
            "Epoch 13/100\n",
            "1579/1579 [==============================] - 0s 46us/step - loss: 364.3733 - val_loss: 392.3181\n",
            "Epoch 14/100\n",
            "1579/1579 [==============================] - 0s 49us/step - loss: 361.5962 - val_loss: 385.8381\n",
            "Epoch 15/100\n",
            "1579/1579 [==============================] - 0s 46us/step - loss: 362.9032 - val_loss: 385.3660\n",
            "Epoch 16/100\n",
            "1579/1579 [==============================] - 0s 46us/step - loss: 363.0222 - val_loss: 397.3270\n",
            "Epoch 17/100\n",
            "1579/1579 [==============================] - 0s 46us/step - loss: 363.9561 - val_loss: 384.8422\n",
            "Epoch 18/100\n",
            "1579/1579 [==============================] - 0s 46us/step - loss: 360.0001 - val_loss: 387.7600\n",
            "Epoch 19/100\n",
            "1579/1579 [==============================] - 0s 45us/step - loss: 360.3861 - val_loss: 386.2764\n",
            "Epoch 20/100\n",
            "1579/1579 [==============================] - 0s 46us/step - loss: 366.2268 - val_loss: 391.6310\n",
            "Epoch 21/100\n",
            "1579/1579 [==============================] - 0s 55us/step - loss: 359.6900 - val_loss: 383.9659\n",
            "Epoch 22/100\n",
            "1579/1579 [==============================] - 0s 47us/step - loss: 358.1838 - val_loss: 386.9044\n",
            "Epoch 23/100\n",
            "1579/1579 [==============================] - 0s 46us/step - loss: 358.4634 - val_loss: 387.8592\n",
            "Epoch 24/100\n",
            "1579/1579 [==============================] - 0s 46us/step - loss: 362.0685 - val_loss: 382.9100\n",
            "Epoch 25/100\n",
            "1579/1579 [==============================] - 0s 50us/step - loss: 361.8630 - val_loss: 381.7279\n",
            "Epoch 26/100\n",
            "1579/1579 [==============================] - 0s 46us/step - loss: 361.2694 - val_loss: 380.9811\n",
            "Epoch 27/100\n",
            "1579/1579 [==============================] - 0s 46us/step - loss: 357.4027 - val_loss: 386.1017\n",
            "Epoch 28/100\n",
            "1579/1579 [==============================] - 0s 46us/step - loss: 359.3238 - val_loss: 380.0997\n",
            "Epoch 29/100\n",
            "1579/1579 [==============================] - 0s 46us/step - loss: 361.0529 - val_loss: 382.6480\n",
            "Epoch 30/100\n",
            "1579/1579 [==============================] - 0s 48us/step - loss: 359.9289 - val_loss: 379.2738\n",
            "Epoch 31/100\n",
            "1579/1579 [==============================] - 0s 46us/step - loss: 357.7831 - val_loss: 381.7529\n",
            "Epoch 32/100\n",
            "1579/1579 [==============================] - 0s 46us/step - loss: 356.0798 - val_loss: 382.4911\n",
            "Epoch 33/100\n",
            "1579/1579 [==============================] - 0s 48us/step - loss: 354.1078 - val_loss: 386.6330\n",
            "Epoch 34/100\n",
            "1579/1579 [==============================] - 0s 54us/step - loss: 354.6019 - val_loss: 379.4360\n",
            "Epoch 35/100\n",
            "1579/1579 [==============================] - 0s 49us/step - loss: 355.6673 - val_loss: 376.8474\n",
            "Epoch 36/100\n",
            "1579/1579 [==============================] - 0s 48us/step - loss: 353.4101 - val_loss: 376.8870\n",
            "Epoch 37/100\n",
            "1579/1579 [==============================] - 0s 47us/step - loss: 351.2971 - val_loss: 388.3841\n",
            "Epoch 38/100\n",
            "1579/1579 [==============================] - 0s 47us/step - loss: 355.7781 - val_loss: 411.4297\n",
            "Epoch 39/100\n",
            "1579/1579 [==============================] - 0s 45us/step - loss: 359.9088 - val_loss: 376.6133\n",
            "Epoch 40/100\n",
            "1579/1579 [==============================] - 0s 45us/step - loss: 350.0622 - val_loss: 402.1157\n",
            "Epoch 41/100\n",
            "1579/1579 [==============================] - 0s 44us/step - loss: 365.3119 - val_loss: 379.7917\n",
            "Epoch 42/100\n",
            "1579/1579 [==============================] - 0s 45us/step - loss: 365.0058 - val_loss: 378.7478\n",
            "Epoch 43/100\n",
            "1579/1579 [==============================] - 0s 46us/step - loss: 349.3754 - val_loss: 372.9773\n",
            "Epoch 44/100\n",
            "1579/1579 [==============================] - 0s 47us/step - loss: 348.9682 - val_loss: 371.7816\n",
            "Epoch 45/100\n",
            "1579/1579 [==============================] - 0s 49us/step - loss: 349.0231 - val_loss: 373.2727\n",
            "Epoch 46/100\n",
            "1579/1579 [==============================] - 0s 49us/step - loss: 348.5122 - val_loss: 378.2691\n",
            "Epoch 47/100\n",
            "1579/1579 [==============================] - 0s 45us/step - loss: 348.7883 - val_loss: 369.9583\n",
            "Epoch 48/100\n",
            "1579/1579 [==============================] - 0s 53us/step - loss: 346.2337 - val_loss: 382.2416\n",
            "Epoch 49/100\n",
            "1579/1579 [==============================] - 0s 45us/step - loss: 345.5033 - val_loss: 368.7938\n",
            "Epoch 50/100\n",
            "1579/1579 [==============================] - 0s 45us/step - loss: 345.0010 - val_loss: 370.6913\n",
            "Epoch 51/100\n",
            "1579/1579 [==============================] - 0s 46us/step - loss: 345.7836 - val_loss: 367.4861\n",
            "Epoch 52/100\n",
            "1579/1579 [==============================] - 0s 45us/step - loss: 346.1746 - val_loss: 377.1186\n",
            "Epoch 53/100\n",
            "1579/1579 [==============================] - 0s 53us/step - loss: 347.7539 - val_loss: 379.8252\n",
            "Epoch 54/100\n",
            "1579/1579 [==============================] - 0s 45us/step - loss: 351.3886 - val_loss: 369.3115\n",
            "Epoch 55/100\n",
            "1579/1579 [==============================] - 0s 45us/step - loss: 345.7805 - val_loss: 374.5456\n",
            "Epoch 56/100\n",
            "1579/1579 [==============================] - 0s 45us/step - loss: 353.8099 - val_loss: 364.2527\n",
            "Epoch 57/100\n",
            "1579/1579 [==============================] - 0s 46us/step - loss: 340.7147 - val_loss: 365.7003\n",
            "Epoch 58/100\n",
            "1579/1579 [==============================] - 0s 47us/step - loss: 341.7123 - val_loss: 362.6897\n",
            "Epoch 59/100\n",
            "1579/1579 [==============================] - 0s 47us/step - loss: 336.7779 - val_loss: 396.4311\n",
            "Epoch 60/100\n",
            "1579/1579 [==============================] - 0s 46us/step - loss: 353.3435 - val_loss: 361.1776\n",
            "Epoch 61/100\n",
            "1579/1579 [==============================] - 0s 53us/step - loss: 337.9370 - val_loss: 391.6270\n",
            "Epoch 62/100\n",
            "1579/1579 [==============================] - 0s 48us/step - loss: 348.1903 - val_loss: 359.9161\n",
            "Epoch 63/100\n",
            "1579/1579 [==============================] - 0s 45us/step - loss: 339.8780 - val_loss: 359.3227\n",
            "Epoch 64/100\n",
            "1579/1579 [==============================] - 0s 44us/step - loss: 334.3315 - val_loss: 364.5974\n",
            "Epoch 65/100\n",
            "1579/1579 [==============================] - 0s 48us/step - loss: 336.2239 - val_loss: 362.0681\n",
            "Epoch 66/100\n",
            "1579/1579 [==============================] - 0s 46us/step - loss: 338.6602 - val_loss: 362.1678\n",
            "Epoch 67/100\n",
            "1579/1579 [==============================] - 0s 47us/step - loss: 337.5942 - val_loss: 356.3793\n",
            "Epoch 68/100\n",
            "1579/1579 [==============================] - 0s 46us/step - loss: 332.0387 - val_loss: 360.7799\n",
            "Epoch 69/100\n",
            "1579/1579 [==============================] - 0s 45us/step - loss: 331.1325 - val_loss: 354.8364\n",
            "Epoch 70/100\n",
            "1579/1579 [==============================] - 0s 45us/step - loss: 359.8840 - val_loss: 405.5039\n",
            "Epoch 71/100\n",
            "1579/1579 [==============================] - 0s 48us/step - loss: 363.3383 - val_loss: 391.7156\n",
            "Epoch 72/100\n",
            "1579/1579 [==============================] - 0s 46us/step - loss: 347.7326 - val_loss: 361.6188\n",
            "Epoch 73/100\n",
            "1579/1579 [==============================] - 0s 52us/step - loss: 334.4200 - val_loss: 351.2723\n",
            "Epoch 74/100\n",
            "1579/1579 [==============================] - 0s 58us/step - loss: 331.1110 - val_loss: 351.2256\n",
            "Epoch 75/100\n",
            "1579/1579 [==============================] - 0s 53us/step - loss: 335.9578 - val_loss: 355.5716\n",
            "Epoch 76/100\n",
            "1579/1579 [==============================] - 0s 49us/step - loss: 325.5884 - val_loss: 351.8311\n",
            "Epoch 77/100\n",
            "1579/1579 [==============================] - 0s 46us/step - loss: 322.9005 - val_loss: 363.4472\n",
            "Epoch 78/100\n",
            "1579/1579 [==============================] - 0s 46us/step - loss: 332.0727 - val_loss: 348.7038\n",
            "Epoch 79/100\n",
            "1579/1579 [==============================] - 0s 46us/step - loss: 323.9274 - val_loss: 346.3101\n",
            "Epoch 80/100\n",
            "1579/1579 [==============================] - 0s 45us/step - loss: 323.8050 - val_loss: 373.5775\n",
            "Epoch 81/100\n",
            "1579/1579 [==============================] - 0s 46us/step - loss: 323.8190 - val_loss: 347.7852\n",
            "Epoch 82/100\n",
            "1579/1579 [==============================] - 0s 45us/step - loss: 319.8357 - val_loss: 345.8517\n",
            "Epoch 83/100\n",
            "1579/1579 [==============================] - 0s 48us/step - loss: 328.9276 - val_loss: 361.9672\n",
            "Epoch 84/100\n",
            "1579/1579 [==============================] - 0s 46us/step - loss: 351.1328 - val_loss: 353.0092\n",
            "Epoch 85/100\n",
            "1579/1579 [==============================] - 0s 47us/step - loss: 321.7643 - val_loss: 354.1023\n",
            "Epoch 86/100\n",
            "1579/1579 [==============================] - 0s 46us/step - loss: 323.6345 - val_loss: 341.2589\n",
            "Epoch 87/100\n",
            "1579/1579 [==============================] - 0s 48us/step - loss: 317.2900 - val_loss: 339.8222\n",
            "Epoch 88/100\n",
            "1579/1579 [==============================] - 0s 52us/step - loss: 330.1378 - val_loss: 362.7814\n",
            "Epoch 89/100\n",
            "1579/1579 [==============================] - 0s 46us/step - loss: 325.3235 - val_loss: 357.4942\n",
            "Epoch 90/100\n",
            "1579/1579 [==============================] - 0s 46us/step - loss: 315.2533 - val_loss: 352.9367\n",
            "Epoch 91/100\n",
            "1579/1579 [==============================] - 0s 47us/step - loss: 319.8771 - val_loss: 349.8112\n",
            "Epoch 92/100\n",
            "1579/1579 [==============================] - 0s 46us/step - loss: 312.3431 - val_loss: 336.5467\n",
            "Epoch 93/100\n",
            "1579/1579 [==============================] - 0s 48us/step - loss: 315.4975 - val_loss: 335.2402\n",
            "Epoch 94/100\n",
            "1579/1579 [==============================] - 0s 45us/step - loss: 315.0816 - val_loss: 333.0505\n",
            "Epoch 95/100\n",
            "1579/1579 [==============================] - 0s 45us/step - loss: 317.9864 - val_loss: 361.1600\n",
            "Epoch 96/100\n",
            "1579/1579 [==============================] - 0s 48us/step - loss: 320.5528 - val_loss: 336.2166\n",
            "Epoch 97/100\n",
            "1579/1579 [==============================] - 0s 45us/step - loss: 310.3198 - val_loss: 343.0214\n",
            "Epoch 98/100\n",
            "1579/1579 [==============================] - 0s 45us/step - loss: 311.8660 - val_loss: 332.7660\n",
            "Epoch 99/100\n",
            "1579/1579 [==============================] - 0s 47us/step - loss: 305.8677 - val_loss: 330.4963\n",
            "Epoch 100/100\n",
            "1579/1579 [==============================] - 0s 45us/step - loss: 354.5623 - val_loss: 328.8678\n"
          ],
          "name": "stdout"
        },
        {
          "output_type": "execute_result",
          "data": {
            "text/plain": [
              "<keras.callbacks.History at 0x7f9e45a112b0>"
            ]
          },
          "metadata": {
            "tags": []
          },
          "execution_count": 15
        }
      ]
    },
    {
      "cell_type": "code",
      "metadata": {
        "id": "flZt7ngRImWq",
        "colab_type": "code",
        "colab": {}
      },
      "source": [
        ""
      ],
      "execution_count": 0,
      "outputs": []
    }
  ]
}